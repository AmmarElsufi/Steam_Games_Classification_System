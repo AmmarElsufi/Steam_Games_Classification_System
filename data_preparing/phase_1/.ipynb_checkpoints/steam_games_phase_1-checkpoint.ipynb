{
 "cells": [
  {
   "cell_type": "code",
   "execution_count": 11,
   "id": "6ec70f8d-409c-46b9-bc36-6cf39aa35744",
   "metadata": {},
   "outputs": [],
   "source": [
    "import numpy as np \n",
    "import pandas as pd\n",
    "import matplotlib.pyplot as plt \n",
    "import seaborn as sns"
   ]
  },
  {
   "cell_type": "code",
   "execution_count": 12,
   "id": "20d80596-20de-48bc-aee3-3c0a55b68501",
   "metadata": {},
   "outputs": [],
   "source": [
    "\n",
    "\n",
    "# Importing data\n",
    "\n"
   ]
  },
  {
   "cell_type": "code",
   "execution_count": 18,
   "id": "0c20bda2-d424-4fe4-a3b9-144b2bd5a976",
   "metadata": {},
   "outputs": [],
   "source": [
    "data = pd.read_csv(r\"phase_1_original_data/games_final_data.csv\")"
   ]
  },
  {
   "cell_type": "code",
   "execution_count": null,
   "id": "b74f821c-367b-4243-bb4f-f4249792b920",
   "metadata": {},
   "outputs": [],
   "source": [
    "######################################################################################################################################\n",
    "######################################################################################################################################\n",
    "######################################################################################################################################"
   ]
  },
  {
   "cell_type": "code",
   "execution_count": null,
   "id": "e6b56a2a-5c23-4cf1-90a3-9da059434bfd",
   "metadata": {},
   "outputs": [],
   "source": [
    "\n",
    "\n",
    "# Recognizing data features\n",
    "\n"
   ]
  },
  {
   "cell_type": "code",
   "execution_count": null,
   "id": "f5b3b7c7-0996-474d-9d3d-35aa836ae3b1",
   "metadata": {},
   "outputs": [],
   "source": [
    "print(data.info() , data.shape , sep=\"\\n\\n\\n\")"
   ]
  },
  {
   "cell_type": "code",
   "execution_count": null,
   "id": "b50c44e2-61f3-4bd9-b575-93e9fcce24bf",
   "metadata": {},
   "outputs": [],
   "source": [
    "data.nunique()"
   ]
  },
  {
   "cell_type": "code",
   "execution_count": null,
   "id": "daa5fa01-a76e-4295-89b9-93ed417d3cfd",
   "metadata": {},
   "outputs": [],
   "source": [
    "data.head(5)"
   ]
  },
  {
   "cell_type": "code",
   "execution_count": null,
   "id": "4011e8b4-affa-41a5-af95-a06f7e317b9b",
   "metadata": {},
   "outputs": [],
   "source": [
    "# Numerical Data \n",
    "data.select_dtypes(exclude=[\"object\" , \"bool\"]).sample(5)"
   ]
  },
  {
   "cell_type": "code",
   "execution_count": null,
   "id": "16613f1f-9878-4988-ae75-4bee050da281",
   "metadata": {},
   "outputs": [],
   "source": []
  },
  {
   "cell_type": "code",
   "execution_count": null,
   "id": "d58836e2-b1b1-4258-b0dd-ed9c9a00c393",
   "metadata": {},
   "outputs": [],
   "source": [
    "## Numerical data describtion \n",
    "data.describe()"
   ]
  },
  {
   "cell_type": "code",
   "execution_count": null,
   "id": "14bd196d-c22b-478d-ad8f-fc243a66330d",
   "metadata": {},
   "outputs": [],
   "source": [
    "# Categorical data\n",
    "non_num_data = data.select_dtypes(include=[\"object\"])\n",
    "non_num_data.sample(5)"
   ]
  },
  {
   "cell_type": "code",
   "execution_count": null,
   "id": "aef00bf4-e8cc-4243-8f3f-434be5b0e45b",
   "metadata": {},
   "outputs": [],
   "source": [
    "## Categorical data description \n",
    "non_num_data.describe()"
   ]
  },
  {
   "cell_type": "code",
   "execution_count": null,
   "id": "8bf6c8d5-008c-42d5-bcdd-ee4ce20ae5ac",
   "metadata": {},
   "outputs": [],
   "source": [
    "data[\"rating\"].value_counts()"
   ]
  },
  {
   "cell_type": "code",
   "execution_count": null,
   "id": "46f2e949-b4dd-4df2-9dd8-5591c217eb24",
   "metadata": {},
   "outputs": [],
   "source": [
    "# Dataset Overview\n",
    "\n",
    "# The dataset contains 50,872 entries and 16 columns .\n",
    "\n",
    "#     Unnamed: 0: An index column that can be dropped.\n",
    "#     app_id: A unique identifier for each game.\n",
    "#     title: The name of the game.\n",
    "#     date_release: The release date of the game.\n",
    "#     win: Indicates whether the game is available on Windows.\n",
    "#     mac: Indicates whether the game is available on macOS.\n",
    "#     linux: Indicates whether the game is available on Linux.\n",
    "#     rating: User rating of the game , EX: (\"Very Positive\", \"Mixed\").\n",
    "#     positive_ratio: The percentage of positive reviews.\n",
    "#     user_reviews: The total number of user reviews.\n",
    "#     price_final: The final price of the game after discounts.\n",
    "#     price_original: The original price of the game.\n",
    "#     discount: The discount percentage applied to the game.\n",
    "#     steam_deck: Indicates whether the game is Steam Deck compatible.\n",
    "#     hours: The total hours played by users  .\n",
    "#     is_recommended: The total number of users who recommended the game ."
   ]
  },
  {
   "cell_type": "code",
   "execution_count": null,
   "id": "8b4b5cdd-4a1f-4260-b156-c8639d4e4809",
   "metadata": {},
   "outputs": [],
   "source": [
    "######################################################################################################################################\n",
    "######################################################################################################################################\n",
    "######################################################################################################################################da"
   ]
  },
  {
   "cell_type": "code",
   "execution_count": null,
   "id": "0ca54f3b-51dd-46df-955d-a35c8a674008",
   "metadata": {},
   "outputs": [],
   "source": [
    "\n",
    "\n",
    "# Data Cleaning\n",
    "\n"
   ]
  },
  {
   "cell_type": "code",
   "execution_count": null,
   "id": "9d69c648-02e1-4ab1-b1df-4aa09e32cee4",
   "metadata": {},
   "outputs": [],
   "source": [
    "## droping useless columns\n",
    "data.drop( \"Unnamed: 0\", axis=1 , inplace=True)"
   ]
  },
  {
   "cell_type": "code",
   "execution_count": null,
   "id": "edaf9009-0d67-47e0-ac10-25c9d3119faf",
   "metadata": {},
   "outputs": [],
   "source": [
    "nan_values_counts = data.isnull().sum()\n",
    "\n",
    "print(nan_values_counts)"
   ]
  },
  {
   "cell_type": "code",
   "execution_count": null,
   "id": "3e8be124-be10-443b-a048-da18a2f76d1c",
   "metadata": {},
   "outputs": [],
   "source": [
    "int_types = [int , float , \"int64\" , \"float64\"]\n",
    "\n",
    "for i , col in zip(nan_values_counts , list(data.columns)) :\n",
    "    nan_per = (i/data.shape[0])*100\n",
    "    print( \"{:s} --> {:.3f} '{:s}' \".format( col , nan_per , str(data[col].dtype)) , end=\"\\n\\n\") \n"
   ]
  },
  {
   "cell_type": "code",
   "execution_count": null,
   "id": "8d988b81-8a80-4bb2-9e56-2f49b11e63d2",
   "metadata": {
    "tags": []
   },
   "outputs": [],
   "source": [
    "hg"
   ]
  },
  {
   "cell_type": "code",
   "execution_count": null,
   "id": "f21493e7-66ee-4b10-964f-b33efafd1f71",
   "metadata": {},
   "outputs": [],
   "source": [
    "## handling nans\n",
    "\n",
    "hg = data.loc[:: , [\"hours\" ,\"rating\"]].groupby(\"rating\").mean()\n",
    "\n",
    "\n",
    "for r in hg.index :\n",
    "    filling_value = int(hg[hg.index == r][\"hours\"][0])\n",
    "    data.loc[data[\"rating\"] == r  ,\"hours\"] = data.loc[data[\"rating\"] == r  ,\"hours\"].fillna(filling_value) \n",
    "\n",
    "#######################\n",
    "    \n",
    "irg = data.loc[:: , [\"is_recommended\" ,\"rating\"]].groupby(\"rating\").mean()\n",
    "\n",
    "for r in irg.index :\n",
    "    filling_value = int(irg[hg.index == r][\"is_recommended\"][0])\n",
    "    data.loc[data[\"rating\"] == r  ,\"is_recommended\"] = data.loc[data[\"rating\"] == r  ,\"is_recommended\"].fillna(filling_value) \n",
    "    "
   ]
  },
  {
   "cell_type": "code",
   "execution_count": null,
   "id": "d48a5dd7-daa6-4363-810a-d0e2236bd7ac",
   "metadata": {},
   "outputs": [],
   "source": [
    "## Converting the data column ontp date formate\n",
    "\n",
    "data['date_release'] = pd.to_datetime(data['date_release'])"
   ]
  },
  {
   "cell_type": "code",
   "execution_count": 14,
   "id": "66cf6199-3bf6-4326-b22d-767812b016f8",
   "metadata": {},
   "outputs": [
    {
     "ename": "NameError",
     "evalue": "name 'data' is not defined",
     "output_type": "error",
     "traceback": [
      "\u001b[0;31m---------------------------------------------------------------------------\u001b[0m",
      "\u001b[0;31mNameError\u001b[0m                                 Traceback (most recent call last)",
      "\u001b[0;32m/tmp/ipykernel_1479/2404292621.py\u001b[0m in \u001b[0;36m<cell line: 3>\u001b[0;34m()\u001b[0m\n\u001b[1;32m      1\u001b[0m \u001b[0;31m# Rechecking\u001b[0m\u001b[0;34m\u001b[0m\u001b[0;34m\u001b[0m\u001b[0m\n\u001b[1;32m      2\u001b[0m \u001b[0;34m\u001b[0m\u001b[0m\n\u001b[0;32m----> 3\u001b[0;31m \u001b[0mprint\u001b[0m\u001b[0;34m(\u001b[0m\u001b[0mdata\u001b[0m\u001b[0;34m.\u001b[0m\u001b[0minfo\u001b[0m\u001b[0;34m(\u001b[0m\u001b[0;34m)\u001b[0m \u001b[0;34m,\u001b[0m \u001b[0mdata\u001b[0m\u001b[0;34m.\u001b[0m\u001b[0mshape\u001b[0m \u001b[0;34m,\u001b[0m \u001b[0msep\u001b[0m\u001b[0;34m=\u001b[0m\u001b[0;34m\"\\n\\n\"\u001b[0m\u001b[0;34m)\u001b[0m\u001b[0;34m\u001b[0m\u001b[0;34m\u001b[0m\u001b[0m\n\u001b[0m",
      "\u001b[0;31mNameError\u001b[0m: name 'data' is not defined"
     ]
    }
   ],
   "source": [
    "# Rechecking\n",
    "\n",
    "print(data.info() , data.shape , sep=\"\\n\\n\")"
   ]
  },
  {
   "cell_type": "code",
   "execution_count": null,
   "id": "d9c232aa-bf1c-4ec7-b112-881545b69a3b",
   "metadata": {},
   "outputs": [],
   "source": [
    "# Rechecking\n",
    "\n",
    "nan_values_counts = data.isnull().sum()\n",
    "\n",
    "print(nan_values_counts)"
   ]
  },
  {
   "cell_type": "code",
   "execution_count": null,
   "id": "96e235a3-669b-4992-aa7c-61dd37f059fb",
   "metadata": {},
   "outputs": [],
   "source": [
    "# Rechecking\n",
    "\n",
    "data.tail(5)"
   ]
  },
  {
   "cell_type": "code",
   "execution_count": null,
   "id": "3e63976c-af30-4ae3-b203-0253936d72b7",
   "metadata": {},
   "outputs": [],
   "source": [
    "######################################################################################################################################\n",
    "######################################################################################################################################\n",
    "######################################################################################################################################"
   ]
  },
  {
   "cell_type": "code",
   "execution_count": null,
   "id": "4a3a699a-0b55-43fb-86ee-6f39d140c70f",
   "metadata": {},
   "outputs": [],
   "source": [
    "\n",
    "\n",
    "# Handling duplicated data\n",
    "\n"
   ]
  },
  {
   "cell_type": "code",
   "execution_count": null,
   "id": "22ead23e-6074-48a3-94b2-65da512bcb35",
   "metadata": {},
   "outputs": [],
   "source": [
    "duplicates_data = data.duplicated()\n",
    "duplicates_data_count = data.duplicated().sum()"
   ]
  },
  {
   "cell_type": "code",
   "execution_count": null,
   "id": "9da63092-a941-40aa-8d04-ec26a54c9d91",
   "metadata": {},
   "outputs": [],
   "source": [
    "## There is no dublicates\n",
    "print(duplicates_data_count)\n",
    "data.drop_duplicates(inplace=True)"
   ]
  },
  {
   "cell_type": "code",
   "execution_count": null,
   "id": "8d825454-3369-401d-af58-e22fb73bf7cb",
   "metadata": {},
   "outputs": [],
   "source": [
    "######################################################################################################################################\n",
    "######################################################################################################################################\n",
    "######################################################################################################################################"
   ]
  },
  {
   "cell_type": "code",
   "execution_count": 15,
   "id": "d553ecaf-062b-4d58-b284-2be2204b5ef3",
   "metadata": {},
   "outputs": [],
   "source": [
    "\n",
    "\n",
    "# Handling outliers \n",
    "\n"
   ]
  },
  {
   "cell_type": "code",
   "execution_count": 16,
   "id": "fd954e3d-99fb-4584-b04c-12f7487dd9e4",
   "metadata": {
    "tags": []
   },
   "outputs": [
    {
     "ename": "NameError",
     "evalue": "name 'data' is not defined",
     "output_type": "error",
     "traceback": [
      "\u001b[0;31m---------------------------------------------------------------------------\u001b[0m",
      "\u001b[0;31mNameError\u001b[0m                                 Traceback (most recent call last)",
      "\u001b[0;32m/tmp/ipykernel_1479/2122343383.py\u001b[0m in \u001b[0;36m<cell line: 1>\u001b[0;34m()\u001b[0m\n\u001b[0;32m----> 1\u001b[0;31m \u001b[0mprint\u001b[0m\u001b[0;34m(\u001b[0m\u001b[0mdata\u001b[0m\u001b[0;34m[\u001b[0m\u001b[0;34m\"rating\"\u001b[0m\u001b[0;34m]\u001b[0m\u001b[0;34m.\u001b[0m\u001b[0mvalue_counts\u001b[0m\u001b[0;34m(\u001b[0m\u001b[0;34m)\u001b[0m \u001b[0;34m,\u001b[0m \u001b[0mdata\u001b[0m\u001b[0;34m[\u001b[0m\u001b[0;34m\"rating\"\u001b[0m\u001b[0;34m]\u001b[0m\u001b[0;34m.\u001b[0m\u001b[0mnunique\u001b[0m\u001b[0;34m(\u001b[0m\u001b[0;34m)\u001b[0m \u001b[0;34m,\u001b[0m \u001b[0msep\u001b[0m\u001b[0;34m=\u001b[0m\u001b[0;34m\"\\n\\n\"\u001b[0m\u001b[0;34m)\u001b[0m\u001b[0;34m\u001b[0m\u001b[0;34m\u001b[0m\u001b[0m\n\u001b[0m",
      "\u001b[0;31mNameError\u001b[0m: name 'data' is not defined"
     ]
    }
   ],
   "source": [
    "print(data[\"rating\"].value_counts() , data[\"rating\"].nunique() , sep=\"\\n\\n\")"
   ]
  },
  {
   "cell_type": "code",
   "execution_count": null,
   "id": "7013018b-3da3-45d4-9fe6-5c29e4b6b43d",
   "metadata": {},
   "outputs": [],
   "source": [
    "num_cols = list(data.select_dtypes(include=[int , float , \"int64\" ,\"float64\"]).columns)"
   ]
  },
  {
   "cell_type": "code",
   "execution_count": null,
   "id": "9d48bbc9-2cd3-461b-bd7c-0cad2f391a38",
   "metadata": {},
   "outputs": [],
   "source": [
    "num_cols = num_cols[1:]\n",
    "num_cols"
   ]
  },
  {
   "cell_type": "code",
   "execution_count": 17,
   "id": "3dbe2323-728b-4261-9ef9-ef78a26878c1",
   "metadata": {},
   "outputs": [
    {
     "ename": "NameError",
     "evalue": "name 'data' is not defined",
     "output_type": "error",
     "traceback": [
      "\u001b[0;31m---------------------------------------------------------------------------\u001b[0m",
      "\u001b[0;31mNameError\u001b[0m                                 Traceback (most recent call last)",
      "\u001b[0;32m/tmp/ipykernel_1479/3993293784.py\u001b[0m in \u001b[0;36m<cell line: 1>\u001b[0;34m()\u001b[0m\n\u001b[0;32m----> 1\u001b[0;31m \u001b[0mdata\u001b[0m\u001b[0;34m.\u001b[0m\u001b[0mshape\u001b[0m\u001b[0;34m\u001b[0m\u001b[0;34m\u001b[0m\u001b[0m\n\u001b[0m",
      "\u001b[0;31mNameError\u001b[0m: name 'data' is not defined"
     ]
    }
   ],
   "source": [
    "data.shape"
   ]
  },
  {
   "cell_type": "code",
   "execution_count": null,
   "id": "6fa4dfd6-77f6-4f64-9f47-ebb93731c56e",
   "metadata": {
    "scrolled": true
   },
   "outputs": [],
   "source": [
    "## Standard Deviation way is the most suitable way for this data \n",
    "\n",
    "for col in num_cols :\n",
    "    upper_limit = np.mean(data[col]) + 4*(np.std(data[col]))\n",
    "    lower_limit = np.mean(data[col]) - 4*(np.std(data[col]))\n",
    "\n",
    "    data = data[ (data[col] < upper_limit) & (data[col] > lower_limit) ]"
   ]
  },
  {
   "cell_type": "code",
   "execution_count": null,
   "id": "94462187-c94e-4846-8320-6b89eedee5d2",
   "metadata": {},
   "outputs": [],
   "source": [
    "data.shape"
   ]
  },
  {
   "cell_type": "code",
   "execution_count": null,
   "id": "56704ce4-5f74-41e3-bb02-7a417167a3c1",
   "metadata": {
    "tags": []
   },
   "outputs": [],
   "source": [
    "print(data[\"rating\"].value_counts() , data[\"rating\"].nunique() , sep=\"\\n\\n\")"
   ]
  },
  {
   "cell_type": "code",
   "execution_count": null,
   "id": "4d71d49e-b79a-46c5-8e60-3df7726166e4",
   "metadata": {},
   "outputs": [],
   "source": [
    "######################################################################################################################################\n",
    "######################################################################################################################################\n",
    "######################################################################################################################################"
   ]
  },
  {
   "cell_type": "code",
   "execution_count": null,
   "id": "a11edd85-9339-4a43-93d2-9f0cdc582f08",
   "metadata": {},
   "outputs": [],
   "source": [
    "\n",
    "\n",
    "# Features Engineering\n",
    "\n"
   ]
  },
  {
   "cell_type": "code",
   "execution_count": null,
   "id": "89e1c75a-9a27-4d2c-b290-43d63a923aac",
   "metadata": {},
   "outputs": [],
   "source": [
    "data.sample(5)"
   ]
  },
  {
   "cell_type": "code",
   "execution_count": null,
   "id": "83489b08-ce56-440e-b2bb-454c36aea49f",
   "metadata": {},
   "outputs": [],
   "source": [
    "data.rename(columns={ \"hours\" : \"num_of_played_hours\" , \n",
    "                      \"is_recommended\" : \"num_of_recommendations\" ,\n",
    "                       \"user_reviews\" : \"num_of_user_reviews\"} ,inplace=True)"
   ]
  },
  {
   "cell_type": "code",
   "execution_count": null,
   "id": "14493bbc-415d-4277-9e4b-d255d3b9f83c",
   "metadata": {},
   "outputs": [],
   "source": [
    "list(data.columns)"
   ]
  },
  {
   "cell_type": "code",
   "execution_count": null,
   "id": "45daf323-cb29-47d5-9107-ec9673af03ac",
   "metadata": {},
   "outputs": [],
   "source": [
    "## Adding more features based on the existed ones \n",
    "\n",
    "data[\"price_difference\"] = data[\"price_original\"] - data[\"price_final\"] \n",
    "\n",
    "data[\"game_age\"] = 2024 - data[\"date_release\"].dt.year\n",
    "\n",
    "data[\"platform_count\"] = np.sum(data.loc[:: , [\"win\" , \"mac\" , \"linux\"]] , axis=1)"
   ]
  },
  {
   "cell_type": "code",
   "execution_count": null,
   "id": "f74e8f7a-8c09-4a1b-8aff-cf76db8d4457",
   "metadata": {},
   "outputs": [],
   "source": [
    "data[\"recommendation_ratio\"] = np.round(data[\"num_of_recommendations\"] / data[\"num_of_user_reviews\"] , decimals = 3)*100"
   ]
  },
  {
   "cell_type": "code",
   "execution_count": null,
   "id": "b9aa8d61-cf1c-4fb0-80ac-8759a9607b76",
   "metadata": {},
   "outputs": [],
   "source": [
    "# Rechecking\n",
    "data.sample(5)"
   ]
  },
  {
   "cell_type": "code",
   "execution_count": null,
   "id": "59f93085-a43d-4514-b9df-782615ff00b8",
   "metadata": {},
   "outputs": [],
   "source": [
    "######################################################################################################################################\n",
    "######################################################################################################################################\n",
    "######################################################################################################################################"
   ]
  },
  {
   "cell_type": "code",
   "execution_count": null,
   "id": "e795618a-ba14-48e6-8d61-22acc9304a2e",
   "metadata": {},
   "outputs": [],
   "source": [
    "\n",
    "\n",
    "# Statistics\n",
    "\n"
   ]
  },
  {
   "cell_type": "code",
   "execution_count": null,
   "id": "82f679cc-24af-4d12-b4eb-dcb855862199",
   "metadata": {},
   "outputs": [],
   "source": [
    "data.info()"
   ]
  },
  {
   "cell_type": "code",
   "execution_count": null,
   "id": "8679ae9e-50ff-428c-9064-697ec20e6a2f",
   "metadata": {},
   "outputs": [],
   "source": [
    "temp_list = list(data.select_dtypes(exclude=[\"object\" , \"bool\" , \"datetime64[ns]\"]).columns)\n",
    "for col in temp_list :\n",
    "    print(f\"\"\" the columns is : {col}\n",
    "                       the mean : {np.mean(data[col])} \n",
    "                       the median : {np.median(data[col])} \n",
    "                       the std : {np.std(data[col])} \n",
    "                       the var : {np.var(data[col])} \n",
    "                       the skew : {data[col].skew()} \n",
    "                       the kurt : {data[col].kurt()} \n",
    "                       the min value : {np.min(data[col])}\n",
    "                       the max value : {np.max(data[col])}\n",
    "                       the range : {np.max(data[col]) - np.min(data[col])}\n",
    "                       the quantile 25 : {data[col].quantile(0.25) }\n",
    "                       the quantile 50 : {data[col].quantile(0.50) }\n",
    "                       the quantile 75 : {data[col].quantile(0.75) }\"\"\" , end=\"\\n\\n\\n\")"
   ]
  },
  {
   "cell_type": "code",
   "execution_count": null,
   "id": "e1a183b3-d04f-431b-88ad-8ac182738aba",
   "metadata": {},
   "outputs": [],
   "source": [
    "### Summary of statistical analysis\n",
    "\n",
    "### Data Analysis Summary:\n",
    "\n",
    "\n",
    "# 1. app_id:\n",
    "\n",
    "# Mean: 1,062,485 - suggests a large number of games in the dataset.\n",
    "\n",
    "# Median: 999,260 - Similar to the mean, indicating a roughly symmetrical distribution.\n",
    "\n",
    "# Skewness: 0.34 - A slight positive skew, meaning there are more games with higher app IDs than lower.\n",
    "\n",
    "# Range: 2,599,280 - A very wide range, again suggesting a large dataset.\n",
    "\n",
    "# ---------------------------------------------------------------------------------------------------------------------------\n",
    "\n",
    "# 2. positive_ratio:\n",
    "\n",
    "# Mean: 77.66% - indicates a generally high positive review ratio, suggesting popular games.\n",
    "\n",
    "# Median: 81% - Similar to the mean, highlighting a relatively balanced distribution of positive reviews.\n",
    "\n",
    "# Skewness: -0.86 - A negative skew means there are more games with higher positive review ratios, likely due to the presence of highly-rated games.\n",
    "\n",
    "# ---------------------------------------------------------------------------------------------------------------------------\n",
    "\n",
    "# 3. num_of_user_reviews:\n",
    "\n",
    "# Mean: 380.34 - Suggests that games in the dataset have a decent number of user reviews.\n",
    "\n",
    "# Median: 47 - The median is significantly lower than the mean, hinting at a highly skewed distribution.\n",
    "\n",
    "# Skewness: 20.48 - An extremely positive skew indicates a heavy concentration of games with low review counts, with a few games having a massive number of reviews.\n",
    "\n",
    "# Kurtosis: 903.03 - A massive kurtosis indicates a very sharp peak and extremely heavy tails in the distribution, confirming the presence of outliers with very high review counts.\n",
    "\n",
    "# ---------------------------------------------------------------------------------------------------------------------------\n",
    "    \n",
    "# 4. price_final:\n",
    "\n",
    "# Mean: 7.36 - The average final price of games in the dataset.\n",
    "\n",
    "# Median: 4.99 - Median is lower than the mean, implying a positive skew.\n",
    "\n",
    "# Skewness: 1.19 - Confirms a positive skew, indicating a concentration of games with lower prices and fewer games with high prices.\n",
    "\n",
    "# ---------------------------------------------------------------------------------------------------------------------------\n",
    "\n",
    "# 5. price_original:\n",
    "\n",
    "# Mean: 7.31 - The average original price of games in the dataset.\n",
    "\n",
    "# Median: 4.99 - Similar to the final price, suggesting similar price distribution.\n",
    "\n",
    "# Skewness: 1.12 - Slightly lower skew than final price, but still positive, again indicating a concentration of lower priced games.\n",
    "\n",
    "# ---------------------------------------------------------------------------------------------------------------------------\n",
    "\n",
    "# 6. discount:\n",
    "\n",
    "# Mean: 2.07 - The average discount on games.\n",
    "\n",
    "# Median: 0 - Significantly lower than the mean, indicating a skewed distribution.\n",
    "\n",
    "# Skewness: 4.70 - A high positive skew suggests a vast majority of games have no discounts, and a few have very large discounts.\n",
    "\n",
    "# Kurtosis: 21.49 - High kurtosis again indicates sharp peak and heavy tails, reinforcing the skewness.\n",
    "\n",
    "# ---------------------------------------------------------------------------------------------------------------------------\n",
    "\n",
    "# 7. num_of_played_hours:\n",
    "\n",
    "# Mean: 5,986.33 - The average number of hours played across all games.\n",
    "\n",
    "# Median: 66 - A stark difference from the mean, indicating a strong positive skew.\n",
    "\n",
    "# Skewness: 15.49 - Confirms a highly positive skew, with many games having low playtimes and a few having extremely high playtimes.\n",
    "\n",
    "# Kurtosis: 332.74 - Extremely high kurtosis, again confirming a few games with very high play times driving the distribution.\n",
    "\n",
    "# ---------------------------------------------------------------------------------------------------------------------------\n",
    "\n",
    "# 8. num_of_recommendations:\n",
    "\n",
    "# Mean: 156.53 - The average number of recommendations for each game.\n",
    "\n",
    "# Median: 12 - A large difference from the mean, implying a heavily skewed distribution.\n",
    "\n",
    "# Skewness: 5.64 - Confirms a high positive skew, with most games having few recommendations and a few having a large number.\n",
    "\n",
    "# Kurtosis: 37.13 - Extremely high kurtosis confirms the presence of outliers with a vast number of recommendations.\n",
    "\n",
    "# ---------------------------------------------------------------------------------------------------------------------------\n",
    "    \n",
    "# 9. price_difference:\n",
    "\n",
    "# Mean: -0.05 - The average price difference between original and final price.\n",
    "\n",
    "# Median: 0 - The median suggests that most games have no price difference.\n",
    "\n",
    "# Skewness: -8.80 - A highly negative skew indicates a large number of games with no price difference, and a few games with significant price differences.\n",
    "\n",
    "# Kurtosis: 113.33 - Extremely high kurtosis confirms the presence of a few games with very large price differences.\n",
    "\n",
    "# ---------------------------------------------------------------------------------------------------------------------------\n",
    "\n",
    "# 10. game_age:\n",
    "\n",
    "# Mean: 5.27 - The average age of games in years.\n",
    "\n",
    "# Median: 5 - Similar to the mean, suggesting a fairly balanced distribution.\n",
    "\n",
    "# Skewness: 0.85 - A slight positive skew, meaning there are more games older than the average age.\n",
    "\n",
    "# ---------------------------------------------------------------------------------------------------------------------------\n",
    "\n",
    "# 11. platform_count:\n",
    "\n",
    "# Mean: 1.42 - The average number of platforms each game is available on.\n",
    "\n",
    "# Median: 1 - The median is lower than the mean, indicating a positive skew.\n",
    "\n",
    "# Skewness: 1.17 - Confirms a positive skew, suggesting a majority of games are available on one platform.\n",
    "\n",
    "# ---------------------------------------------------------------------------------------------------------------------------\n",
    "\n",
    "# 12. recommendation_ratio:\n",
    "\n",
    "# Mean: 39.98 - The average ratio of recommendations to reviews.\n",
    "\n",
    "# Median: 35.2 - Similar to the mean, indicating a roughly balanced distribution.\n",
    "\n",
    "# Skewness: 31.92 - An extremely positive skew, similar to other variables with very high outliers.\n",
    "\n",
    "# Kurtosis: 1934.53 - Extremely high kurtosis again confirms the presence of outliers with very high recommendation ratios.\n",
    "\n",
    "# ---------------------------------------------------------------------------------------------------------------------------\n",
    "\n",
    "# ----------------------------------------------------------------------------------------------------------------------------------------------------\n",
    "# ----------------------------------------------------------------------------------------------------------------------------------------------------\n",
    "# ----------------------------------------------------------------------------------------------------------------------------------------------------"
   ]
  },
  {
   "cell_type": "code",
   "execution_count": null,
   "id": "e0cd0016-f12a-42a6-980f-170f815c1a36",
   "metadata": {},
   "outputs": [],
   "source": [
    "######################################################################################################################################\n",
    "######################################################################################################################################\n",
    "######################################################################################################################################"
   ]
  },
  {
   "cell_type": "code",
   "execution_count": null,
   "id": "8af7f61e-f44b-4d57-bfee-dfd0ae6d0b40",
   "metadata": {},
   "outputs": [],
   "source": [
    "\n",
    "\n",
    "# Extracting the final data\n",
    "\n"
   ]
  },
  {
   "cell_type": "code",
   "execution_count": null,
   "id": "c97bcef5-d87f-45a1-bea3-4a8631dab4b4",
   "metadata": {},
   "outputs": [],
   "source": [
    "data.to_csv(\"The_final_extracted_data/steam_games_extracted_phase_1.csv\" , index=False)"
   ]
  },
  {
   "cell_type": "code",
   "execution_count": null,
   "id": "d4b89089-954f-4448-a15b-e908667bbfd0",
   "metadata": {},
   "outputs": [],
   "source": [
    "######################################################################################################################################\n",
    "######################################################################################################################################\n",
    "######################################################################################################################################"
   ]
  },
  {
   "cell_type": "code",
   "execution_count": null,
   "id": "12b5b457-67d3-49b3-9fb1-228547588fa1",
   "metadata": {},
   "outputs": [],
   "source": [
    "# End of phase one ..."
   ]
  },
  {
   "cell_type": "code",
   "execution_count": null,
   "id": "fc1d4439-88d5-46d2-b3aa-7a79ff08534b",
   "metadata": {},
   "outputs": [],
   "source": []
  }
 ],
 "metadata": {
  "kernelspec": {
   "display_name": ".conda-default:Python",
   "language": "python",
   "name": "conda-env-.conda-default-py"
  },
  "language_info": {
   "codemirror_mode": {
    "name": "ipython",
    "version": 3
   },
   "file_extension": ".py",
   "mimetype": "text/x-python",
   "name": "python",
   "nbconvert_exporter": "python",
   "pygments_lexer": "ipython3",
   "version": "3.9.19"
  }
 },
 "nbformat": 4,
 "nbformat_minor": 5
}
